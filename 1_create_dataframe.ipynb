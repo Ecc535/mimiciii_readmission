{
 "cells": [
  {
   "cell_type": "code",
   "id": "initial_id",
   "metadata": {
    "collapsed": true,
    "ExecuteTime": {
     "end_time": "2025-07-17T18:36:42.487422Z",
     "start_time": "2025-07-17T18:36:42.343244Z"
    }
   },
   "source": [
    "from SAPSII_computation import compute_sapsii\n",
    "from SAPSII_computation import compute_sofa\n",
    "import matplotlib.pyplot as plt\n",
    "import pandas as pd\n",
    "# load admission, patients, labevents, chartevents\n",
    "admissions = pd.read_csv(\"../data/ADMISSIONS.csv\")\n",
    "patients = pd.read_csv(\"../data/PATIENTS.csv\")"
   ],
   "outputs": [],
   "execution_count": 10
  },
  {
   "metadata": {
    "ExecuteTime": {
     "end_time": "2025-07-17T18:36:42.508306Z",
     "start_time": "2025-07-17T18:36:42.492506Z"
    }
   },
   "cell_type": "code",
   "source": [
    "# # record original admission count before filtering\n",
    "# original_admissions_count = admissions.shape[0]\n",
    "# # parse discharge and death times for filtering\n",
    "admissions['DISCHTIME'] = pd.to_datetime(admissions['DISCHTIME'])\n",
    "admissions['DEATHTIME'] = pd.to_datetime(admissions['DEATHTIME'], errors='coerce')\n",
    "\n",
    "died = admissions.loc[\n",
    "    admissions['DEATHTIME'].notna() &\n",
    "    (admissions['DEATHTIME'] <= admissions['DISCHTIME']),\n",
    "    'HADM_ID'\n",
    "]\n",
    "print(f\"{len(died)} admissions ended in in-hospital death\")\n",
    "died.to_csv(\"died_hadms.csv\", index=False)\n"
   ],
   "id": "a1197862b2beaf8e",
   "outputs": [
    {
     "name": "stdout",
     "output_type": "stream",
     "text": [
      "5816 admissions ended in in-hospital death\n"
     ]
    }
   ],
   "execution_count": 11
  },
  {
   "metadata": {
    "ExecuteTime": {
     "end_time": "2025-07-17T18:36:42.658705Z",
     "start_time": "2025-07-17T18:36:42.534180Z"
    }
   },
   "cell_type": "code",
   "source": [
    "# demographics: age, gender\n",
    "admissions['ADMITTIME'] = pd.to_datetime(admissions['ADMITTIME'])\n",
    "# compute hospital length of stay in hours\n",
    "admissions['hospital_los_hours'] = (\n",
    "    admissions['DISCHTIME'] - admissions['ADMITTIME']\n",
    ").dt.total_seconds() / 3600\n",
    "patients['DOB']         = pd.to_datetime(patients['DOB'])\n",
    "\n",
    "df = (\n",
    "    admissions[['SUBJECT_ID', 'HADM_ID', 'ADMITTIME', 'hospital_los_hours']]\n",
    "    .merge(patients[['SUBJECT_ID', 'DOB', 'GENDER']], on='SUBJECT_ID', how='left')\n",
    ")\n",
    "\n",
    "# calculate age\n",
    "df['AGE'] = df['ADMITTIME'].dt.year - df['DOB'].dt.year\n",
    "\n",
    "mask = (\n",
    "    (df['ADMITTIME'].dt.month  < df['DOB'].dt.month) |\n",
    "    ((df['ADMITTIME'].dt.month == df['DOB'].dt.month) &\n",
    "     (df['ADMITTIME'].dt.day   < df['DOB'].dt.day))\n",
    ")\n",
    "df.loc[mask, 'AGE'] -= 1\n",
    "\n",
    "# cap at 90 per MIMIC policy\n",
    "df.loc[df['AGE'] > 89, 'AGE'] = 90\n",
    "\n",
    "age = df.set_index('SUBJECT_ID')['AGE']\n",
    "\n",
    "plt.figure(figsize=(8,4))\n",
    "plt.hist(df['AGE'], bins=range(0, 95, 5), edgecolor='black')\n",
    "plt.title(\"Age Distribution\")\n",
    "plt.xlabel(\"Age\")\n",
    "plt.ylabel(\"Number of Admissions\")\n",
    "plt.xticks(range(0, 95, 5))\n",
    "plt.tight_layout()\n",
    "plt.show()"
   ],
   "id": "f3a1044649ae3b34",
   "outputs": [
    {
     "data": {
      "text/plain": [
       "<Figure size 800x400 with 1 Axes>"
      ],
      "image/png": "[encoded data removed]"
     },
     "metadata": {},
     "output_type": "display_data"
    }
   ],
   "execution_count": 12
  },
  {
   "metadata": {
    "ExecuteTime": {
     "end_time": "2025-07-17T18:36:42.752651Z",
     "start_time": "2025-07-17T18:36:42.742839Z"
    }
   },
   "cell_type": "code",
   "source": [
    "# drop less 18\n",
    "df = df[df['AGE'] > 18].copy()\n",
    "filtered_df_count = df.shape[0]\n",
    "print('remaining admissions after filtering age:', filtered_df_count)\n",
    "# Counts by each age\n",
    "# Summary statistics\n",
    "print(df['AGE'].describe())"
   ],
   "id": "c3c1f2848109fbd1",
   "outputs": [
    {
     "name": "stdout",
     "output_type": "stream",
     "text": [
      "remaining admissions after filtering age: 50631\n",
      "count    50631.000000\n",
      "mean        63.615255\n",
      "std         17.057059\n",
      "min         19.000000\n",
      "25%         52.000000\n",
      "50%         65.000000\n",
      "75%         77.000000\n",
      "max         90.000000\n",
      "Name: AGE, dtype: float64\n"
     ]
    }
   ],
   "execution_count": 13
  },
  {
   "metadata": {
    "ExecuteTime": {
     "end_time": "2025-07-17T18:36:43.463666Z",
     "start_time": "2025-07-17T18:36:42.756873Z"
    }
   },
   "cell_type": "code",
   "source": [
    "gender = df.set_index('SUBJECT_ID')['GENDER']\n",
    "print(gender.head())\n",
    "# chart values\n",
    "chart_agg = pd.read_csv('chart_stats_24h_vs_stay.csv')\n",
    "# lab values\n",
    "# lab_agg = pd.read_csv('lab_values.csv')\n",
    "# cpt values\n",
    "cpt_features = pd.read_csv('cpt_values.csv')\n",
    "# urine values\n",
    "urine_agg = pd.read_csv('output_values.csv')\n",
    "# ICD 9 code\n",
    "diag_agg = pd.read_csv(\"diag_features.csv\")\n",
    "# proc_agg = pd.read_csv(\"proc_topic_counts.csv\")\n",
    "# ICU stay\n",
    "icu_agg = pd.read_csv(\"icu_features.csv\")\n",
    "# prepare the feature data frame\n",
    "demo_feats = (\n",
    "    df[['HADM_ID','SUBJECT_ID', 'AGE', 'GENDER', 'hospital_los_hours']]\n",
    "    .drop_duplicates(subset='HADM_ID')\n",
    "    .set_index('HADM_ID')\n",
    ")\n",
    "# lab_agg = lab_agg.dropna(subset=['HADM_ID']).set_index('HADM_ID')\n",
    "chart_agg = chart_agg.dropna(subset=['HADM_ID']).set_index('HADM_ID')\n",
    "urine_agg = urine_agg.dropna(subset=['HADM_ID']).set_index('HADM_ID')\n",
    "cpt_features = cpt_features.dropna(subset=['HADM_ID']).set_index('HADM_ID')\n",
    "diag_agg = diag_agg.dropna(subset=['HADM_ID']).set_index('HADM_ID')\n",
    "# proc_agg = proc_agg.dropna(subset=['HADM_ID']).set_index('HADM_ID')\n",
    "icu_agg = icu_agg.dropna(subset=['HADM_ID']).set_index('HADM_ID')\n",
    "feature_df = (\n",
    "    demo_feats\n",
    "      # .join(lab_agg, how='left')\n",
    "      .join(chart_agg, how='left')\n",
    "      .join(urine_agg, how='left')\n",
    "      .join(cpt_features, how='left')\n",
    "      .join(diag_agg, how='left')\n",
    "      # .join(proc_agg, how='left')\n",
    "      .join(icu_agg, how='left')\n",
    "      .reset_index()\n",
    ")\n",
    "# inspect missingness per feature before dropping rows\n",
    "missing_counts = feature_df.isna().sum()\n",
    "missing_pct = missing_counts / feature_df.shape[0]\n",
    "missing_df = pd.DataFrame({\n",
    "    'feature': missing_counts.index,\n",
    "    'missing_count': missing_counts.values,\n",
    "    'missing_pct': missing_pct.values\n",
    "})\n",
    "missing_df = missing_df.sort_values(by='missing_count', ascending=False)\n",
    "print(\"Top features by number of missing values:\")\n",
    "print(missing_df.head(10))\n"
   ],
   "id": "e467b4d2f094954a",
   "outputs": [
    {
     "name": "stdout",
     "output_type": "stream",
     "text": [
      "SUBJECT_ID\n",
      "22    F\n",
      "23    M\n",
      "23    M\n",
      "24    M\n",
      "25    M\n",
      "Name: GENDER, dtype: object\n",
      "Top features by number of missing values:\n",
      "              feature  missing_count  missing_pct\n",
      "83   urine_output_24h          31093     0.614110\n",
      "178             32220          23974     0.473504\n",
      "230             36489          23974     0.473504\n",
      "238             37205          23974     0.473504\n",
      "237             37195          23974     0.473504\n",
      "236             36800          23974     0.473504\n",
      "235             36620          23974     0.473504\n",
      "234             36600          23974     0.473504\n",
      "233             36580          23974     0.473504\n",
      "232             36558          23974     0.473504\n"
     ]
    }
   ],
   "execution_count": 14
  },
  {
   "metadata": {
    "ExecuteTime": {
     "end_time": "2025-07-17T18:36:43.569937Z",
     "start_time": "2025-07-17T18:36:43.495813Z"
    }
   },
   "cell_type": "code",
   "source": [
    "# drop admissions with >30% missing features\n",
    "all_hadms = feature_df['HADM_ID'].tolist()\n",
    "original_feature_count = len(all_hadms)\n",
    "\n",
    "# 2) compute your keep-mask\n",
    "max_missing = int(0.8 * feature_df.shape[1])\n",
    "keep_mask = feature_df.isna().sum(axis=1) <= max_missing\n",
    "\n",
    "# 3) capture the dropped HADM_IDs for later use\n",
    "dropped_hadm_ids = feature_df.loc[~keep_mask, 'HADM_ID'].tolist()\n",
    "print(f\"Will drop {len(dropped_hadm_ids)} stays: {dropped_hadm_ids[:10]} ...\")\n",
    "\n",
    "# 4) apply the filter\n",
    "feature_df = feature_df[keep_mask].copy()\n",
    "dropped_count = original_feature_count - feature_df.shape[0]\n",
    "print(f\"Dropped {dropped_count} admissions with >30% missing features \"\n",
    "      f\"(>{max_missing} missing of {feature_df.shape[1]} columns)\")\n",
    "\n",
    "# 5) (Optional) save the list of dropped IDs for later readmission checks\n",
    "pd.DataFrame({'HADM_ID': dropped_hadm_ids}).to_csv(\"dropped_hadms.csv\", index=False)"
   ],
   "id": "aeb364e81ac16439",
   "outputs": [
    {
     "name": "stdout",
     "output_type": "stream",
     "text": [
      "Will drop 4903 stays: [188670.0, 148959.0, 176332.0, 189535.0, 195961.0, 186474.0, 155252.0, 158569.0, 120969.0, 166401.0] ...\n",
      "Dropped 4903 admissions with >30% missing features (>284 missing of 356 columns)\n"
     ]
    }
   ],
   "execution_count": 15
  },
  {
   "metadata": {
    "ExecuteTime": {
     "end_time": "2025-07-17T18:36:46.512154Z",
     "start_time": "2025-07-17T18:36:43.596498Z"
    }
   },
   "cell_type": "code",
   "source": [
    "# vital signs computation\n",
    "print(\"compute SAPS II for each admission\")\n",
    "feature_df['SAPSII'] = feature_df.apply(compute_sapsii, axis=1)\n",
    "print(\"compute SOFA for each admission\")\n",
    "feature_df['SOFA'] = feature_df.apply(compute_sofa, axis=1)\n",
    "print(feature_df.shape)\n",
    "print(feature_df.columns)\n",
    "print(feature_df.sample())\n",
    "\n",
    "# target dataframe\n",
    "adm_counts = (\n",
    "    admissions\n",
    "      .groupby(\"SUBJECT_ID\")[\"HADM_ID\"]\n",
    "      .nunique()\n",
    "      .reset_index(name=\"n_admissions\")\n",
    ")\n",
    "\n",
    "# 2. Filter to patients with >1 admissions & drop outlier\n",
    "p99 = adm_counts[\"n_admissions\"].quantile(0.99)\n",
    "multi_adm = adm_counts[\n",
    "    (adm_counts[\"n_admissions\"] > 1) &\n",
    "    (adm_counts[\"n_admissions\"] <= p99)\n",
    "].copy()\n",
    "\n",
    "print(f\"99th percentile cutoff = {p99:.0f} admissions\")\n",
    "print(multi_adm)\n",
    "\n",
    "admissions['DISCHTIME'] = pd.to_datetime(admissions['DISCHTIME'])\n",
    "# sort with order\n",
    "admissions = admissions.sort_values(['SUBJECT_ID', 'ADMITTIME'])\n",
    "admissions['next_admittime'] = (\n",
    "    admissions\n",
    "      .groupby('SUBJECT_ID')['ADMITTIME']\n",
    "      .shift(-1)\n",
    ")\n",
    "admissions['readmit_gap'] = (\n",
    "    admissions['next_admittime'] - admissions['DISCHTIME']\n",
    ").dt.days\n",
    "admissions['readmission_30'] = (\n",
    "    admissions['readmit_gap']\n",
    "      .between(1, 30)\n",
    "      .fillna(0)\n",
    "      .astype(int)\n",
    ")\n",
    "admissions['readmission_60'] = (\n",
    "    admissions['readmit_gap']\n",
    "      .between(1, 60)        # 1–60 days\n",
    "      .astype(int)\n",
    ")\n",
    "admissions['n_admissions'] = (\n",
    "    admissions.groupby('SUBJECT_ID')['HADM_ID']\n",
    "              .transform('nunique')\n",
    ")\n",
    "mask = (\n",
    "    (admissions['n_admissions'] == 1) |\n",
    "    (admissions['next_admittime'].notna())\n",
    ")\n",
    "# target_df = admissions.loc[mask,\n",
    "#     ['SUBJECT_ID','HADM_ID','readmission_30','readmission_60']\n",
    "# ].copy()\n",
    "target_df = admissions.loc[mask, ['SUBJECT_ID','HADM_ID','readmission_30']].copy()\n",
    "died = pd.read_csv(\"died_hadms.csv\")['HADM_ID']\n",
    "died_targets = target_df[target_df['HADM_ID'].isin(died)]\n",
    "print(f\"Of the {len(died)} in-hospital deaths, {died_targets['readmission_30'].sum()} have a 30-day readmit flag (should be zero).\")\n",
    "target_df = target_df.loc[~target_df['HADM_ID'].isin(died)].copy()\n",
    "print(target_df.shape)\n",
    "target_df.to_csv(\"target_hadms.csv\", index=False)"
   ],
   "id": "b6b267767ed9288c",
   "outputs": [
    {
     "name": "stdout",
     "output_type": "stream",
     "text": [
      "compute SAPS II for each admission\n",
      "compute SOFA for each admission\n",
      "(45728, 358)\n",
      "Index(['HADM_ID', 'SUBJECT_ID', 'AGE', 'GENDER', 'hospital_los_hours',\n",
      "       'HeartRate_mean_24h', 'RespRate_mean_24h', 'SBP_mean_24h',\n",
      "       'DBP_mean_24h', 'Temp_mean_24h',\n",
      "       ...\n",
      "       '99141', '99144', 'total_cpt_count', 'unique_diag_count', 'CCI',\n",
      "       'num_icu_stays', 'mean_icu_los_hours', 'last_careunit', 'SAPSII',\n",
      "       'SOFA'],\n",
      "      dtype='object', length=358)\n",
      "        HADM_ID  SUBJECT_ID  AGE GENDER  hospital_los_hours  \\\n",
      "39835  137771.0       68691   78      M          135.783333   \n",
      "\n",
      "       HeartRate_mean_24h  RespRate_mean_24h  SBP_mean_24h  DBP_mean_24h  \\\n",
      "39835              93.875          18.729167    121.583333        70.125   \n",
      "\n",
      "       Temp_mean_24h  ...  99141  99144  total_cpt_count  unique_diag_count  \\\n",
      "39835           96.4  ...    NaN    NaN              NaN                 25   \n",
      "\n",
      "       CCI  num_icu_stays  mean_icu_los_hours  last_careunit  SAPSII  SOFA  \n",
      "39835   13            1.0          137.293889           MICU      16     0  \n",
      "\n",
      "[1 rows x 358 columns]\n",
      "99th percentile cutoff = 5 admissions\n",
      "       SUBJECT_ID  n_admissions\n",
      "13             17             2\n",
      "17             21             2\n",
      "19             23             2\n",
      "29             34             2\n",
      "31             36             3\n",
      "...           ...           ...\n",
      "46470       99822             3\n",
      "46488       99883             2\n",
      "46491       99897             2\n",
      "46498       99923             2\n",
      "46513       99982             3\n",
      "\n",
      "[7256 rows x 2 columns]\n",
      "Of the 5816 in-hospital deaths, 0 have a 30-day readmit flag (should be zero).\n",
      "(47074, 3)\n"
     ]
    }
   ],
   "execution_count": 16
  },
  {
   "metadata": {
    "ExecuteTime": {
     "end_time": "2025-07-17T18:36:46.547058Z",
     "start_time": "2025-07-17T18:36:46.545452Z"
    }
   },
   "cell_type": "code",
   "source": [
    "# # 1) Load the list of dropped HADM_IDs\n",
    "# dropped = pd.read_csv(\"dropped_hadms.csv\")['HADM_ID']\n",
    "#\n",
    "# # 2) Filter your target_df to just those dropped stays\n",
    "# dropped_targets = target_df[target_df['HADM_ID'].isin(dropped)]\n",
    "#\n",
    "# # 3) Count how many of those had a 30-day readmission\n",
    "# n_readm_dropped = dropped_targets['readmission_30'].sum()\n",
    "# total_dropped = len(dropped)\n",
    "#\n",
    "# print(f\"Among the {total_dropped} dropped admissions, {n_readm_dropped} had a 30-day readmission.\")\n",
    "# print(target_df.sample(10))"
   ],
   "id": "39dd567cef807b83",
   "outputs": [],
   "execution_count": 17
  },
  {
   "metadata": {
    "ExecuteTime": {
     "end_time": "2025-07-17T18:36:49.200933Z",
     "start_time": "2025-07-17T18:36:46.580888Z"
    }
   },
   "cell_type": "code",
   "source": [
    "# prepare the final data frame\n",
    "final_df = feature_df.merge(\n",
    "    target_df[['HADM_ID','readmission_30']],\n",
    "    on='HADM_ID',\n",
    "    how='inner'\n",
    ")\n",
    "print(final_df.shape)\n",
    "print(final_df[['HADM_ID','readmission_30']].head())\n",
    "final_df.to_csv(\"../src/dataframe_clean.csv\", index=False)"
   ],
   "id": "f1dd9cb42c1adec8",
   "outputs": [
    {
     "name": "stdout",
     "output_type": "stream",
     "text": [
      "(35419, 359)\n",
      "    HADM_ID  readmission_30\n",
      "0  165315.0               0\n",
      "1  152223.0               0\n",
      "2  161859.0               0\n",
      "3  129635.0               0\n",
      "4  197661.0               0\n"
     ]
    }
   ],
   "execution_count": 18
  }
 ],
 "metadata": {
  "kernelspec": {
   "display_name": "Python 3",
   "language": "python",
   "name": "python3"
  },
  "language_info": {
   "codemirror_mode": {
    "name": "ipython",
    "version": 2
   },
   "file_extension": ".py",
   "mimetype": "text/x-python",
   "name": "python",
   "nbconvert_exporter": "python",
   "pygments_lexer": "ipython2",
   "version": "2.7.6"
  }
 },
 "nbformat": 4,
 "nbformat_minor": 5
}
