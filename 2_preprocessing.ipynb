{
 "cells": [
  {
   "metadata": {
    "ExecuteTime": {
     "end_time": "2025-06-29T23:08:31.242504Z",
     "start_time": "2025-06-29T23:08:31.044460Z"
    }
   },
   "cell_type": "code",
   "source": [
    "from sklearn.preprocessing import StandardScaler\n",
    "import matplotlib.pyplot as plt\n",
    "from pandas.plotting import scatter_matrix\n",
    "from sklearn.preprocessing import OneHotEncoder\n",
    "from imblearn.combine import SMOTETomek\n",
    "from sklearn.impute import SimpleImputer\n",
    "import numpy as np\n",
    "import pandas as pd\n",
    "visualize = False\n",
    "df = pd.read_csv(\"../src/dataframe_clean.csv\")\n",
    "\n",
    "# distribution\n",
    "class_counts = df['readmission_30'].value_counts()\n",
    "print(\"readmission class distribution (0 = unreadmitted, 1 = readmitted):\")\n",
    "print(class_counts)"
   ],
   "id": "7891356ae4c6da20",
   "outputs": [
    {
     "name": "stdout",
     "output_type": "stream",
     "text": [
      "readmission class distribution (0 = unreadmitted, 1 = readmitted):\n",
      "readmission_30\n",
      "0    48142\n",
      "1     3297\n",
      "Name: count, dtype: int64\n"
     ]
    }
   ],
   "execution_count": 4
  },
  {
   "metadata": {
    "ExecuteTime": {
     "end_time": "2025-06-29T23:08:31.534904Z",
     "start_time": "2025-06-29T23:08:31.250507Z"
    }
   },
   "cell_type": "code",
   "source": [
    "# split X and Y\n",
    "Y_df = df.set_index('HADM_ID')[['readmission_30']]\n",
    "# Y_df.to_csv(\"../src/Y_df.csv\")\n",
    "X = df.drop(\n",
    "    columns=[\n",
    "        \"SUBJECT_ID\",\n",
    "        \"readmission_30\",\n",
    "        \"readmission_60\",\n",
    "        \"readmit_gap\",\n",
    "    ],\n",
    "    errors=\"ignore\"\n",
    ")\n",
    "# identify numeric and categorical\n",
    "X_cat = X[['GENDER']].copy()\n",
    "X_num = X.drop(columns=['GENDER'])\n",
    "\n",
    "# categorical encode 0 -> female; 1 -> male\n",
    "ohe = OneHotEncoder(sparse_output=False, drop='first')\n",
    "X_cat_encoded = ohe.fit_transform(X_cat)\n",
    "cat_feature_names = ohe.get_feature_names_out(X_cat.columns)\n",
    "X_cat_encoded_df = pd.DataFrame(X_cat_encoded, columns=cat_feature_names, index=X_cat.index)\n",
    "\n",
    "# outliers filter\n",
    "# p_low, p_high = 0.01, 0.99\n",
    "# lower = X_num.quantile(p_low)\n",
    "# upper = X_num.quantile(p_high)\n",
    "#\n",
    "# # 2) Build mask: keep rows where *all* features are within those percentiles\n",
    "# mask = ((X_num >= lower) & (X_num <= upper)).all(axis=1)\n",
    "#\n",
    "# # 3) Filter\n",
    "# X_num_trim = X_num.loc[mask]\n",
    "# X_cat_trim = X_cat.loc[mask]\n",
    "# Y_trim     = Y.loc[mask]\n",
    "#\n",
    "# print(f\"Kept {len(X_num_trim)} of {len(X_num)} rows after 1–99% trimming\")\n",
    "\n",
    "\n",
    "X_processed = pd.concat([X_cat_encoded_df, X_num], axis=1)\n",
    "print(X_processed.head())\n",
    "\n",
    "# Impute missing values in features before resampling\n",
    "imputer = SimpleImputer(strategy='median')\n",
    "X_processed = pd.DataFrame(imputer.fit_transform(X_processed), columns=X_processed.columns)\n",
    "print(\"Missing values after imputation:\", X_processed.isna().sum().sum())"
   ],
   "id": "f77a8cbc2cbb6768",
   "outputs": [
    {
     "name": "stdout",
     "output_type": "stream",
     "text": [
      "   GENDER_M   HADM_ID  AGE  Albumin  Bicarbonate    Chloride  Creatinine  \\\n",
      "0       0.0  165315.0   64      NaN    27.500000  104.000000    0.600000   \n",
      "1       1.0  152223.0   71      NaN    24.000000  111.000000    0.725000   \n",
      "2       1.0  161859.0   39      NaN    24.000000  105.500000    0.925000   \n",
      "3       1.0  129635.0   58      3.2    24.333333  104.222222    1.188889   \n",
      "4       1.0  197661.0   72      NaN    25.625000  103.250000    1.312500   \n",
      "\n",
      "   Glucose  Hematocrit  Hemoglobin  ...  CSRU  MICU  NICU  SICU  TSICU  \\\n",
      "0      NaN   35.900000   12.200000  ...   0.0   1.0   0.0   0.0    0.0   \n",
      "1    113.7   25.911111    9.300000  ...   1.0   0.0   0.0   0.0    0.0   \n",
      "2      NaN   40.866667   14.333333  ...   0.0   0.0   0.0   0.0    0.0   \n",
      "3      NaN   31.333333   11.042857  ...   0.0   0.0   0.0   0.0    0.0   \n",
      "4      NaN   35.411111   11.866667  ...   0.0   0.0   0.0   0.0    0.0   \n",
      "\n",
      "   first_icu_los_hours  last_icu_los_hours  mean_icu_los_hours  \\\n",
      "0            27.450000           27.450000           27.450000   \n",
      "1            30.337778           30.337778           30.337778   \n",
      "2            12.296944           12.296944           12.296944   \n",
      "3            85.117778           85.117778           85.117778   \n",
      "4            51.376389           51.376389           51.376389   \n",
      "\n",
      "   diff_icu_los_hours  icu_switch  \n",
      "0                 0.0         0.0  \n",
      "1                 0.0         0.0  \n",
      "2                 0.0         0.0  \n",
      "3                 0.0         0.0  \n",
      "4                 0.0         0.0  \n",
      "\n",
      "[5 rows x 94 columns]\n",
      "Missing values after imputation: 0\n"
     ]
    }
   ],
   "execution_count": 5
  },
  {
   "metadata": {
    "ExecuteTime": {
     "end_time": "2025-06-29T23:08:39.903761Z",
     "start_time": "2025-06-29T23:08:31.588540Z"
    }
   },
   "cell_type": "code",
   "source": [
    "# smote + tomek\n",
    "smk = SMOTETomek(random_state=42)\n",
    "X_res, y_res = smk.fit_resample(X_processed, df['readmission_30'])\n",
    "df_smt = X_res.copy()\n",
    "df_smt['readmission_30'] = y_res\n",
    "print(\"distribution after smote+tomek:\")\n",
    "print(df_smt['readmission_30'].value_counts())\n",
    "print(y_res.head())\n",
    "df_smt.to_csv(\"../src/data_smote.csv\", index=False)\n",
    "print(df_smt.head())\n",
    "# visualization\n",
    "if visualize:\n",
    "    const_cols = [\n",
    "        col\n",
    "        for col in X_num.columns\n",
    "        if X_num[col].nunique(dropna=True) <= 1\n",
    "    ]\n",
    "    print(\"Dropping constant columns:\", const_cols)\n",
    "    X_num_plot = X_num.drop(columns=const_cols)\n",
    "    # Scatter matrix of raw numeric features (no outlier filter)\n",
    "    fig = scatter_matrix(\n",
    "        X_num_plot,\n",
    "        alpha=0.3,\n",
    "        figsize=(30, 30),\n",
    "        diagonal='kde'\n",
    "    )\n",
    "    plt.suptitle(\"Raw Numeric Features (No Outlier Filter)\", y=0.92)\n",
    "    plt.savefig('../figures/scatter_pre_no_outlier_filter.png')\n",
    "    plt.clf()\n",
    "\n"
   ],
   "id": "8b4a9d89224ef7c3",
   "outputs": [
    {
     "name": "stdout",
     "output_type": "stream",
     "text": [
      "distribution after smote+tomek:\n",
      "readmission_30\n",
      "0    46951\n",
      "1    46951\n",
      "Name: count, dtype: int64\n",
      "0    0\n",
      "1    0\n",
      "2    0\n",
      "3    0\n",
      "4    0\n",
      "Name: readmission_30, dtype: int64\n",
      "   GENDER_M   HADM_ID   AGE  Albumin  Bicarbonate    Chloride  Creatinine  \\\n",
      "0       0.0  165315.0  64.0      3.2    27.500000  104.000000    0.600000   \n",
      "1       1.0  152223.0  71.0      3.2    24.000000  111.000000    0.725000   \n",
      "2       1.0  161859.0  39.0      3.2    24.000000  105.500000    0.925000   \n",
      "3       1.0  129635.0  58.0      3.2    24.333333  104.222222    1.188889   \n",
      "4       1.0  197661.0  72.0      3.2    25.625000  103.250000    1.312500   \n",
      "\n",
      "      Glucose  Hematocrit  Hemoglobin  ...  MICU  NICU  SICU  TSICU  \\\n",
      "0  133.769231   35.900000   12.200000  ...   1.0   0.0   0.0    0.0   \n",
      "1  113.700000   25.911111    9.300000  ...   0.0   0.0   0.0    0.0   \n",
      "2  133.769231   40.866667   14.333333  ...   0.0   0.0   0.0    0.0   \n",
      "3  133.769231   31.333333   11.042857  ...   0.0   0.0   0.0    0.0   \n",
      "4  133.769231   35.411111   11.866667  ...   0.0   0.0   0.0    0.0   \n",
      "\n",
      "   first_icu_los_hours  last_icu_los_hours  mean_icu_los_hours  \\\n",
      "0            27.450000           27.450000           27.450000   \n",
      "1            30.337778           30.337778           30.337778   \n",
      "2            12.296944           12.296944           12.296944   \n",
      "3            85.117778           85.117778           85.117778   \n",
      "4            51.376389           51.376389           51.376389   \n",
      "\n",
      "   diff_icu_los_hours  icu_switch  readmission_30  \n",
      "0                 0.0         0.0               0  \n",
      "1                 0.0         0.0               0  \n",
      "2                 0.0         0.0               0  \n",
      "3                 0.0         0.0               0  \n",
      "4                 0.0         0.0               0  \n",
      "\n",
      "[5 rows x 95 columns]\n"
     ]
    }
   ],
   "execution_count": 6
  }
 ],
 "metadata": {
  "kernelspec": {
   "display_name": "Python 3",
   "language": "python",
   "name": "python3"
  },
  "language_info": {
   "codemirror_mode": {
    "name": "ipython",
    "version": 2
   },
   "file_extension": ".py",
   "mimetype": "text/x-python",
   "name": "python",
   "nbconvert_exporter": "python",
   "pygments_lexer": "ipython2",
   "version": "2.7.6"
  }
 },
 "nbformat": 4,
 "nbformat_minor": 5
}
