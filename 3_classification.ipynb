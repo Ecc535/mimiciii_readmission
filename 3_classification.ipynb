{
 "cells": [
  {
   "cell_type": "code",
   "id": "initial_id",
   "metadata": {
    "collapsed": true,
    "ExecuteTime": {
     "end_time": "2025-06-29T23:08:46.648351Z",
     "start_time": "2025-06-29T23:08:44.325943Z"
    }
   },
   "source": [
    "from sklearn.model_selection import train_test_split\n",
    "from sklearn.ensemble import RandomForestClassifier\n",
    "from sklearn.metrics import classification_report, confusion_matrix, accuracy_score\n",
    "from sklearn.metrics import roc_auc_score, f1_score\n",
    "import pandas as pd\n",
    "\n",
    "# feature and target loading\n",
    "df = pd.read_csv('data_smote.csv')\n",
    "\n",
    "# separate\n",
    "X = df.drop(columns=[\"HADM_ID\", \"readmission_30\"])\n",
    "y = df[\"readmission_30\"]\n",
    "\n",
    "# train/test split\n",
    "X_train, X_test, y_train, y_test = train_test_split(\n",
    "    X, y,\n",
    "    test_size=0.2,\n",
    "    stratify=y,\n",
    "    random_state=42\n",
    ")\n",
    "print(y_train.value_counts(normalize=True))\n",
    "\n",
    "# initialize and fit random: forest parameter refine\n",
    "clf = RandomForestClassifier(\n",
    "    n_estimators=30,\n",
    "    random_state=42,\n",
    "    n_jobs=-1,\n",
    "    max_features=\"sqrt\",\n",
    "    class_weight=\"balanced\"\n",
    ")\n",
    "clf.fit(X_train, y_train)\n",
    "\n",
    "# predict on test\n",
    "y_pred = clf.predict(X_test)\n",
    "y_proba = clf.predict_proba(X_test)[:, 1]\n",
    "\n",
    "# ROC-AUC\n",
    "roc_auc = roc_auc_score(y_test, y_proba)\n",
    "print(f\"ROC-AUC: {roc_auc:.4f}\")\n",
    "\n",
    "# F-1\n",
    "f1 = f1_score(y_test, y_pred)\n",
    "print(f\"F₁ Score: {f1:.4f}\")\n",
    "# evaluate\n",
    "print(\"Accuracy: \", accuracy_score(y_test, y_pred))\n",
    "print(\"\\nClassification Report:\\n\", classification_report(y_test, y_pred))\n",
    "print(\"Confusion Matrix:\\n\", confusion_matrix(y_test, y_pred))"
   ],
   "outputs": [
    {
     "name": "stdout",
     "output_type": "stream",
     "text": [
      "readmission_30\n",
      "1    0.500007\n",
      "0    0.499993\n",
      "Name: proportion, dtype: float64\n",
      "ROC-AUC: 0.9874\n",
      "F₁ Score: 0.9659\n",
      "Accuracy:  0.967041158617752\n",
      "\n",
      "Classification Report:\n",
      "               precision    recall  f1-score   support\n",
      "\n",
      "           0       0.94      1.00      0.97      9391\n",
      "           1       1.00      0.93      0.97      9390\n",
      "\n",
      "    accuracy                           0.97     18781\n",
      "   macro avg       0.97      0.97      0.97     18781\n",
      "weighted avg       0.97      0.97      0.97     18781\n",
      "\n",
      "Confusion Matrix:\n",
      " [[9383    8]\n",
      " [ 611 8779]]\n"
     ]
    }
   ],
   "execution_count": 1
  }
 ],
 "metadata": {
  "kernelspec": {
   "display_name": "Python 3",
   "language": "python",
   "name": "python3"
  },
  "language_info": {
   "codemirror_mode": {
    "name": "ipython",
    "version": 2
   },
   "file_extension": ".py",
   "mimetype": "text/x-python",
   "name": "python",
   "nbconvert_exporter": "python",
   "pygments_lexer": "ipython2",
   "version": "2.7.6"
  }
 },
 "nbformat": 4,
 "nbformat_minor": 5
}
