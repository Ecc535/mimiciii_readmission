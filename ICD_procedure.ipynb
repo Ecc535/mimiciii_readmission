{
 "cells": [
  {
   "cell_type": "code",
   "id": "initial_id",
   "metadata": {
    "collapsed": true,
    "ExecuteTime": {
     "end_time": "2025-06-26T14:27:54.365098Z",
     "start_time": "2025-06-26T14:27:53.252356Z"
    }
   },
   "source": [
    "import numpy as np\n",
    "import pandas as pd\n",
    "proc_events = pd.read_csv(\"../data/PROCEDURES_ICD.csv\",\n",
    "                           usecols=['SUBJECT_ID', 'HADM_ID', 'ICD9_CODE'])\n",
    "proc_events['ICD9_CODE'] = proc_events['ICD9_CODE'].astype(str).str.zfill(4)\n",
    "\n",
    "# extract prefix\n",
    "proc_events['icd9_prefix'] = (\n",
    "    proc_events['ICD9_CODE']\n",
    "               .str.extract(r'^(\\d{2})')[0]\n",
    ")\n",
    "ranges = [\n",
    "    (1,   5,   1),\n",
    "    (6,   7,   2),\n",
    "    (8,   16,  3),\n",
    "    (17,  25,  4),\n",
    "    (30,  34,  5),\n",
    "    (35,  39,  6),\n",
    "    (40,  41,  7),\n",
    "    (42,  54,  8),\n",
    "    (55,  59,  9),\n",
    "    (60,  64, 10),\n",
    "    (65,  67, 11),\n",
    "    (68,  68, 12),\n",
    "    (69,  71, 13),\n",
    "    (72,  72, 14),\n",
    "    (73,  73, 15),\n",
    "    (74,  74, 16),\n",
    "    (75,  79, 17),\n",
    "]\n",
    "prefix_to_procchap_id = {}\n",
    "for lo, hi, cid in ranges:\n",
    "    for i in range(lo, hi+1):\n",
    "        prefix_to_procchap_id[f\"{i:02d}\"] = cid\n",
    "\n",
    "proc_events['proc_chapter_id'] = proc_events['icd9_prefix']\\\n",
    "    .map(prefix_to_procchap_id)\\\n",
    "    .fillna(0).astype(int)\n",
    "\n",
    "proc_agg = (\n",
    "  proc_events\n",
    "  .groupby('HADM_ID')\n",
    "  .agg(\n",
    "    total_proc_count        = ('ICD9_CODE',       'size'),\n",
    "    unique_proc_codes       = ('ICD9_CODE',       'nunique'),\n",
    "    distinct_proc_chapters  = ('proc_chapter_id', 'nunique'),\n",
    "    proc_chapter_list       = ('proc_chapter_id', lambda x: list(x.unique()))\n",
    "  )\n",
    "  .reset_index()\n",
    ")\n",
    "chap_counts = (\n",
    "    proc_events\n",
    "    .groupby(['HADM_ID','proc_chapter_id'])\n",
    "    .size()\n",
    "    .unstack(fill_value=0)\n",
    ")\n",
    "chap_counts.columns = [\n",
    "    f\"proc_chap_count_{int(chap)}\"\n",
    "    for chap in chap_counts.columns\n",
    "]\n",
    "\n",
    "proc_features = (\n",
    "    proc_agg\n",
    "    .drop(columns=['proc_chapter_list'])\n",
    "    .merge(chap_counts, on='HADM_ID', how='left')\n",
    "    .fillna(0)\n",
    ")\n",
    "\n",
    "# ensure integer dtype for count columns\n",
    "count_cols = [c for c in proc_features.columns if c.startswith('proc_chap_count_')]\n",
    "proc_features[count_cols] = proc_features[count_cols].astype(int)\n",
    "\n",
    "pd.set_option('display.max_columns', None)\n",
    "print(proc_features.head().to_string())\n",
    "print(\"Shape:\", proc_features.shape)\n",
    "proc_features.to_csv(\"proc_features.csv\", index=False)"
   ],
   "outputs": [
    {
     "name": "stdout",
     "output_type": "stream",
     "text": [
      "   HADM_ID  total_proc_count  unique_proc_codes  distinct_proc_chapters  proc_chap_count_0  proc_chap_count_1  proc_chap_count_2  proc_chap_count_3  proc_chap_count_4  proc_chap_count_5  proc_chap_count_6  proc_chap_count_7  proc_chap_count_8  proc_chap_count_9  proc_chap_count_10  proc_chap_count_11  proc_chap_count_12  proc_chap_count_13  proc_chap_count_15  proc_chap_count_17\n",
      "0   100003                 4                  4                       3                  2                  0                  0                  0                  0                  0                  1                  0                  1                  0                   0                   0                   0                   0                   0                   0\n",
      "1   100006                 2                  2                       1                  2                  0                  0                  0                  0                  0                  0                  0                  0                  0                   0                   0                   0                   0                   0                   0\n",
      "2   100007                 2                  2                       1                  0                  0                  0                  0                  0                  0                  0                  0                  2                  0                   0                   0                   0                   0                   0                   0\n",
      "3   100009                 4                  4                       1                  0                  0                  0                  0                  0                  0                  4                  0                  0                  0                   0                   0                   0                   0                   0                   0\n",
      "4   100010                 3                  3                       2                  0                  2                  0                  0                  0                  0                  0                  0                  0                  1                   0                   0                   0                   0                   0                   0\n",
      "Shape: (52243, 20)\n"
     ]
    }
   ],
   "execution_count": 1
  }
 ],
 "metadata": {
  "kernelspec": {
   "display_name": "Python 3",
   "language": "python",
   "name": "python3"
  },
  "language_info": {
   "codemirror_mode": {
    "name": "ipython",
    "version": 2
   },
   "file_extension": ".py",
   "mimetype": "text/x-python",
   "name": "python",
   "nbconvert_exporter": "python",
   "pygments_lexer": "ipython2",
   "version": "2.7.6"
  }
 },
 "nbformat": 4,
 "nbformat_minor": 5
}
