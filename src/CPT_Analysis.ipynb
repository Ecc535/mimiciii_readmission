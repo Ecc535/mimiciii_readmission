{
 "cells": [
  {
   "cell_type": "code",
   "id": "initial_id",
   "metadata": {
    "collapsed": true,
    "ExecuteTime": {
     "end_time": "2025-07-17T18:26:38.734803Z",
     "start_time": "2025-07-17T18:26:37.740063Z"
    }
   },
   "source": [
    "import pandas as pd\n",
    "from pathlib import Path\n",
    "\"\"\"\n",
    "CPTcodes.py\n",
    "-----------\n",
    "Clean MIMIC‑III CPTEVENTS and produce a **bag‑of‑codes** (one‑hot / binary)\n",
    "feature matrix per hospital admission.\n",
    "\n",
    "Pipeline\n",
    "========\n",
    "1.  Load CPTEVENTS and ADMISSIONS.\n",
    "2.  *Basic cleaning*  \n",
    "    • strip modifiers → 5‑digit base code  \n",
    "    • drop daily E/M codes (99200‑99499)  \n",
    "    • deduplicate ⟨HADM_ID, code⟩  \n",
    "    • prune codes that occur in < MIN_FREQ admissions\n",
    "3.  Pivot to one‑hot rows (HADM_ID × CPT_CODE) and save as `cpt_bag.csv`.\n",
    "\n",
    "\"\"\"\n",
    "# ------------------------------------------------------------------\n",
    "# Config\n",
    "# ------------------------------------------------------------------\n",
    "MIN_FREQ  = 25                            # keep codes seen ≥ this many hadm\n",
    "OUT_FILE  = Path(\"cpt_values.csv\")           # output feature matrix\n",
    "\n",
    "# ------------------------------------------------------------------\n",
    "# 1. Load data\n",
    "# ------------------------------------------------------------------\n",
    "admissions_cols = [\"HADM_ID\", \"ADMITTIME\"]\n",
    "cptevents_cols  = [\"HADM_ID\", \"CPT_NUMBER\", \"CPT_CD\", \"CPT_SUFFIX\", \"CHARTDATE\"]\n",
    "\n",
    "adm = pd.read_csv( \"../data/ADMISSIONS.csv\",\n",
    "                  usecols=admissions_cols,\n",
    "                  parse_dates=[\"ADMITTIME\"])\n",
    "\n",
    "cpt = pd.read_csv( \"../data/CPTEVENTS.csv\",\n",
    "                  usecols=cptevents_cols,\n",
    "                  parse_dates=[\"CHARTDATE\"])\n",
    "\n",
    "# ------------------------------------------------------------------\n",
    "# 2. Basic cleaning steps\n",
    "# ------------------------------------------------------------------\n",
    "# 2‑a) core 5‑digit code, zero‑padded\n",
    "cpt['BASE_CODE'] = pd.to_numeric(cpt['CPT_NUMBER'], errors='coerce')\n",
    "cpt = cpt.dropna(subset=['BASE_CODE'])\n",
    "cpt['BASE_CODE'] = (cpt['BASE_CODE'].astype(int).astype(str).str.zfill(5))\n",
    "\n",
    "# 2‑b) drop daily Evaluation & Management (E/M) codes 99200‑99499\n",
    "mask_em = cpt[\"BASE_CODE\"].between(\"99200\", \"99499\")\n",
    "cpt = cpt.loc[~mask_em]\n",
    "\n",
    "# 2‑c) deduplicate within an admission\n",
    "cpt = cpt.drop_duplicates(subset=[\"HADM_ID\", \"BASE_CODE\"])\n",
    "\n",
    "# 2‑d) prune rare codes (sparsity control)\n",
    "freq = cpt.groupby(\"BASE_CODE\")[\"HADM_ID\"].nunique()\n",
    "keep_codes = freq[freq >= MIN_FREQ].index\n",
    "cpt = cpt[cpt[\"BASE_CODE\"].isin(keep_codes)]\n",
    "\n",
    "print(f\"Retained {len(keep_codes)} CPT codes that appear in ≥ {MIN_FREQ} admissions.\")\n",
    "\n",
    "# ------------------------------------------------------------------\n",
    "# 3. Bag‑of‑codes pivot (binary)\n",
    "# ------------------------------------------------------------------\n",
    "cpt[\"flag\"] = 1\n",
    "bag = (\n",
    "    cpt.pivot_table(index=\"HADM_ID\",\n",
    "                    columns=\"BASE_CODE\",\n",
    "                    values=\"flag\",\n",
    "                    aggfunc=\"max\",\n",
    "                    fill_value=0)\n",
    "    .astype(\"int8\")\n",
    "    .reset_index()\n",
    ")\n",
    "\n",
    "print(\"Bag‑of‑codes matrix shape:\", bag.shape)\n",
    "\n",
    "# Optional extra: total code count per admission (before dedup)\n",
    "totals = (\n",
    "    cpt.groupby(\"HADM_ID\")[\"CPT_NUMBER\"].size()\n",
    "        .rename(\"total_cpt_count\")\n",
    "        .astype(\"int16\")\n",
    ")\n",
    "\n",
    "bag = bag.merge(totals, on=\"HADM_ID\", how=\"left\")\n",
    "\n",
    "# ------------------------------------------------------------------\n",
    "# 4. Save\n",
    "# ------------------------------------------------------------------\n",
    "bag.to_csv(OUT_FILE, index=False)\n",
    "print(\"Saved →\", OUT_FILE.resolve())\n",
    "\n"
   ],
   "outputs": [
    {
     "name": "stderr",
     "output_type": "stream",
     "text": [
      "/var/folders/0q/ly2yy0zn3jx47gypxrpcd5vm0000gn/T/ipykernel_30660/999942536.py:37: DtypeWarning: Columns (5,7) have mixed types. Specify dtype option on import or set low_memory=False.\n",
      "  cpt = pd.read_csv( \"../data/CPTEVENTS.csv\",\n"
     ]
    },
    {
     "name": "stdout",
     "output_type": "stream",
     "text": [
      "Retained 266 CPT codes that appear in ≥ 25 admissions.\n",
      "Bag‑of‑codes matrix shape: (27053, 267)\n",
      "Saved → /Users/yixinshen/mimiciii_readmission/src/cpt_values.csv\n"
     ]
    }
   ],
   "execution_count": 1
  }
 ],
 "metadata": {
  "kernelspec": {
   "display_name": "Python 3",
   "language": "python",
   "name": "python3"
  },
  "language_info": {
   "codemirror_mode": {
    "name": "ipython",
    "version": 2
   },
   "file_extension": ".py",
   "mimetype": "text/x-python",
   "name": "python",
   "nbconvert_exporter": "python",
   "pygments_lexer": "ipython2",
   "version": "2.7.6"
  }
 },
 "nbformat": 4,
 "nbformat_minor": 5
}
