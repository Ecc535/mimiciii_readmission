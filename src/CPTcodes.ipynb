{
 "cells": [
  {
   "cell_type": "code",
   "id": "initial_id",
   "metadata": {
    "collapsed": true,
    "ExecuteTime": {
     "end_time": "2025-07-07T21:22:19.041601Z",
     "start_time": "2025-07-07T21:20:23.356871Z"
    }
   },
   "source": [
    "import pandas as pd\n",
    "\n",
    "admissions = pd.read_csv(\"../data/ADMISSIONS.csv\")\n",
    "admissions['ADMITTIME'] = pd.to_datetime(admissions['ADMITTIME'])\n",
    "# CPT codes\n",
    "# chartdate for timing of procedure\n",
    "cpt_events = pd.read_csv('../data/CPTEVENTS.csv',\n",
    "                         usecols=['SUBJECT_ID','HADM_ID','CHARTDATE','CPT_NUMBER'])\n",
    "d_cpt      = pd.read_csv('../data/D_CPT.csv',\n",
    "                         usecols=['SECTIONHEADER','SUBSECTIONHEADER',\n",
    "                                  'MINCODEINSUBSECTION','MAXCODEINSUBSECTION'])\n",
    "\n",
    "# map code to section\n",
    "intervals = pd.IntervalIndex.from_arrays(\n",
    "    left=d_cpt['MINCODEINSUBSECTION'],\n",
    "    right=d_cpt['MAXCODEINSUBSECTION'],\n",
    "    closed='both'\n",
    ")\n",
    "d_cpt = d_cpt.assign(interval=intervals)\n",
    "\n",
    "# cpt timing\n",
    "cpt_events['CHARTDATE'] = pd.to_datetime(cpt_events['CHARTDATE'])\n",
    "cpt_events = cpt_events.merge(admissions, on='HADM_ID', how='left')\n",
    "cpt_events['days_since_admission'] = (\n",
    "    cpt_events['CHARTDATE'] - cpt_events['ADMITTIME']\n",
    ").dt.days\n",
    "\n",
    "# look up\n",
    "def lookup_cpt_sections(cpt_num):\n",
    "    mask = intervals.contains(cpt_num)\n",
    "    matches = d_cpt[mask]\n",
    "    if matches.empty:\n",
    "        return pd.Series({'sections': None, 'subsections': None})\n",
    "    else:\n",
    "        return pd.Series({\n",
    "            'sections':    ';'.join(matches['SECTIONHEADER'].astype(str)),\n",
    "            'subsections': ';'.join(matches['SUBSECTIONHEADER'].astype(str)),\n",
    "        })\n",
    "\n",
    "cpt_events[['section','subsection']] = (\n",
    "    cpt_events['CPT_NUMBER']\n",
    "              .apply(lookup_cpt_sections)\n",
    ")\n",
    "agg = cpt_events.groupby('HADM_ID').agg(\n",
    "    total_cpt_count    = ('CPT_NUMBER','size'),\n",
    "    unique_cpt_codes   = ('CPT_NUMBER','nunique'),\n",
    "    distinct_sections  = ('section','nunique'),\n",
    "    distinct_subsects  = ('subsection','nunique'),\n",
    ")\n",
    "\n",
    "timing_agg = cpt_events.groupby('HADM_ID').agg(\n",
    "    first_cpt_day   = ('days_since_admission','min'),   # e.g. 0 = same day\n",
    "    last_cpt_day    = ('days_since_admission','max'),\n",
    "    cpt_span_days   = ('days_since_admission', lambda x: x.max() - x.min()),\n",
    ")\n",
    "cpt_features = (\n",
    "    agg\n",
    "    # .join(high_risk_agg,  how='left')\n",
    "    .join(timing_agg,     how='left')\n",
    "    # .join(code_agg,       how='left')\n",
    "    .fillna(0)\n",
    "    .reset_index()\n",
    ")\n",
    "print(cpt_features.head())\n",
    "cpt_features.to_csv(\"cpt_values.csv\", index=False)"
   ],
   "outputs": [
    {
     "name": "stderr",
     "output_type": "stream",
     "text": [
      "/var/folders/0q/ly2yy0zn3jx47gypxrpcd5vm0000gn/T/ipykernel_45803/3909678410.py:7: DtypeWarning: Columns (4) have mixed types. Specify dtype option on import or set low_memory=False.\n",
      "  cpt_events = pd.read_csv('../data/CPTEVENTS.csv',\n"
     ]
    },
    {
     "name": "stdout",
     "output_type": "stream",
     "text": [
      "   HADM_ID  total_cpt_count  unique_cpt_codes  distinct_sections  \\\n",
      "0   100001                8                 4                  1   \n",
      "1   100003                8                 6                  3   \n",
      "2   100006               10                 4                  1   \n",
      "3   100007                5                 3                  1   \n",
      "4   100009               11                 8                  3   \n",
      "\n",
      "   distinct_subsects  first_cpt_day  last_cpt_day  cpt_span_days  \n",
      "0                  2            0.0           0.0            0.0  \n",
      "1                  4            0.0           0.0            0.0  \n",
      "2                  1            0.0           0.0            0.0  \n",
      "3                  2            0.0           0.0            0.0  \n",
      "4                  4            1.0           1.0            0.0  \n"
     ]
    }
   ],
   "execution_count": 1
  }
 ],
 "metadata": {
  "kernelspec": {
   "display_name": "Python 3",
   "language": "python",
   "name": "python3"
  },
  "language_info": {
   "codemirror_mode": {
    "name": "ipython",
    "version": 2
   },
   "file_extension": ".py",
   "mimetype": "text/x-python",
   "name": "python",
   "nbconvert_exporter": "python",
   "pygments_lexer": "ipython2",
   "version": "2.7.6"
  }
 },
 "nbformat": 4,
 "nbformat_minor": 5
}
