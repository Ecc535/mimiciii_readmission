{
 "cells": [
  {
   "cell_type": "code",
   "id": "initial_id",
   "metadata": {
    "collapsed": true,
    "ExecuteTime": {
     "end_time": "2025-07-07T21:19:56.787357Z",
     "start_time": "2025-07-07T21:19:50.510064Z"
    }
   },
   "source": [
    "import pandas as pd\n",
    "import numpy as np\n",
    "\n",
    "admissions = pd.read_csv(\"../data/ADMISSIONS.csv\")\n",
    "\n",
    "# load lab values\n",
    "lab_values = pd.read_csv(\"../data/LABEVENTS.csv\",\n",
    "                         usecols=['HADM_ID', 'ITEMID', 'VALUENUM'],\n",
    "                         low_memory=True)\n",
    "lab_itemids = {\n",
    "    # in blood fluid\n",
    "    50809: \"Glucose\",\n",
    "    50912: \"Creatinine\",\n",
    "    50983: \"Sodium\",\n",
    "    50971: \"Potassium\",\n",
    "    50882: \"Bicarbonate\",\n",
    "    50902: \"Chloride\",\n",
    "    51006: \"Urea_Nitrogen\",\n",
    "    51301: \"WBC\", # white blood cells\n",
    "    51221: \"Hematocrit\",\n",
    "    51222: \"Hemoglobin\",\n",
    "    51265: \"Platelet_Count\",\n",
    "    225690: \"Total_Bilirubin\",\n",
    "    50862: \"Albumin\",\n",
    "    50813: \"Lactate\",\n",
    "    50820: \"pH\",\n",
    "    50818: \"pCO2\",\n",
    "    50821: \"pO2\"\n",
    "}\n",
    "relevant_itemids = list(lab_itemids.keys())\n",
    "lab_filtered = lab_values[lab_values[\"ITEMID\"].isin(relevant_itemids)].copy()\n",
    "lab_filtered[\"measurement\"] = lab_filtered[\"ITEMID\"].map(lab_itemids)\n",
    "lab_agg = (\n",
    "    lab_filtered\n",
    "    .groupby([\"HADM_ID\", \"measurement\"])[\"VALUENUM\"]\n",
    "    .mean()\n",
    "    .unstack(fill_value=np.nan)\n",
    "    .reset_index()\n",
    ")\n",
    "lab_agg.columns.name = None\n",
    "print(lab_agg.head())\n",
    "lab_agg.to_csv(\"lab_values.csv\", index=False)"
   ],
   "outputs": [
    {
     "name": "stdout",
     "output_type": "stream",
     "text": [
      "    HADM_ID  Albumin  Bicarbonate    Chloride  Creatinine     Glucose  \\\n",
      "0  100001.0      NaN    19.714286  107.214286    2.214286         NaN   \n",
      "1  100003.0      2.4    19.666667  105.833333    1.083333         NaN   \n",
      "2  100006.0      2.0    29.384615   97.615385    0.638462         NaN   \n",
      "3  100007.0      NaN    24.888889  106.222222    0.666667         NaN   \n",
      "4  100009.0      4.3    25.200000  103.857143    0.783333  132.833333   \n",
      "\n",
      "   Hematocrit  Hemoglobin  Lactate  Platelet_Count  Potassium      Sodium  \\\n",
      "0   32.157143   11.114286      1.9      364.428571   4.035714  139.571429   \n",
      "1   27.781818    9.214286      1.1      145.285714   4.783333  132.000000   \n",
      "2   31.853846   10.600000      4.5      228.615385   4.076923  131.384615   \n",
      "3   30.600000   10.187500      2.5      199.750000   3.955556  139.111111   \n",
      "4   35.914286   12.557143      1.3      142.571429   4.242857  137.714286   \n",
      "\n",
      "   Urea_Nitrogen        WBC  pCO2        pH    pO2  \n",
      "0      28.571429  10.400000   NaN       NaN    NaN  \n",
      "1      34.500000  13.328571  29.0  7.370000   87.0  \n",
      "2      17.076923   9.700000  46.2  7.386000   98.6  \n",
      "3      14.222222   7.375000  38.0  7.500000   62.0  \n",
      "4      17.000000  12.385714  41.4  7.374167  192.3  \n"
     ]
    }
   ],
   "execution_count": 1
  }
 ],
 "metadata": {
  "kernelspec": {
   "display_name": "Python 3",
   "language": "python",
   "name": "python3"
  },
  "language_info": {
   "codemirror_mode": {
    "name": "ipython",
    "version": 2
   },
   "file_extension": ".py",
   "mimetype": "text/x-python",
   "name": "python",
   "nbconvert_exporter": "python",
   "pygments_lexer": "ipython2",
   "version": "2.7.6"
  }
 },
 "nbformat": 4,
 "nbformat_minor": 5
}
