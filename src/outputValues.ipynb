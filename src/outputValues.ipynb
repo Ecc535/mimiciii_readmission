{
 "cells": [
  {
   "cell_type": "code",
   "id": "initial_id",
   "metadata": {
    "collapsed": true,
    "ExecuteTime": {
     "end_time": "2025-07-07T21:20:06.859166Z",
     "start_time": "2025-07-07T21:20:04.329311Z"
    }
   },
   "source": [
    "import numpy as np\n",
    "import pandas as pd\n",
    "\n",
    "admissions = pd.read_csv(\"../data/ADMISSIONS.csv\")\n",
    "admissions['ADMITTIME'] = pd.to_datetime(admissions['ADMITTIME'])\n",
    "# load output values\n",
    "output_values = pd.read_csv(\"../data/OUTPUTEVENTS.csv\",\n",
    "                            usecols=['HADM_ID', 'ITEMID', 'VALUE', 'CHARTTIME'],\n",
    "                            low_memory=True)\n",
    "output_itemids = {\n",
    "    40055:    \"Urine_out_Foley\",\n",
    "    40069:    \"Urine_out_Void\",\n",
    "    43175:    \"Urine\"\n",
    "}\n",
    "\n",
    "# === Urine output aggregation for first 24h ===\n",
    "output_values['CHARTTIME'] = pd.to_datetime(output_values['CHARTTIME'])\n",
    "mask_out = output_values['ITEMID'].isin(output_itemids.keys())\n",
    "uro = output_values.loc[mask_out].copy()\n",
    "uro['measurement'] = uro['ITEMID'].map(output_itemids)\n",
    "# join ICU admit time\n",
    "uro = uro.merge(admissions[['HADM_ID','ADMITTIME']], on='HADM_ID', how='left')\n",
    "uro['hours_since_admit'] = (uro['CHARTTIME'] - uro['ADMITTIME']).dt.total_seconds() / 3600\n",
    "uro24 = uro[uro['hours_since_admit'] <= 24]\n",
    "urine_agg = (\n",
    "    uro24.groupby('HADM_ID')['VALUE']\n",
    "        .sum()\n",
    "        .rename('urine_output_24h')\n",
    "        .reset_index()\n",
    ")\n",
    "print(urine_agg.head())\n",
    "urine_agg.to_csv(\"output_values.csv\", index=False)"
   ],
   "outputs": [
    {
     "name": "stdout",
     "output_type": "stream",
     "text": [
      "    HADM_ID  urine_output_24h\n",
      "0  100006.0            2950.0\n",
      "1  100007.0            1105.0\n",
      "2  100017.0             940.0\n",
      "3  100029.0               0.0\n",
      "4  100030.0            1450.0\n"
     ]
    }
   ],
   "execution_count": 1
  }
 ],
 "metadata": {
  "kernelspec": {
   "display_name": "Python 3",
   "language": "python",
   "name": "python3"
  },
  "language_info": {
   "codemirror_mode": {
    "name": "ipython",
    "version": 2
   },
   "file_extension": ".py",
   "mimetype": "text/x-python",
   "name": "python",
   "nbconvert_exporter": "python",
   "pygments_lexer": "ipython2",
   "version": "2.7.6"
  }
 },
 "nbformat": 4,
 "nbformat_minor": 5
}
